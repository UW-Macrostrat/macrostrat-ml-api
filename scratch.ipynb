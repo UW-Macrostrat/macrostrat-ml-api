{
 "cells": [
  {
   "cell_type": "code",
   "execution_count": null,
   "id": "bdb542cc",
   "metadata": {
    "vscode": {
     "languageId": "plaintext"
    }
   },
   "outputs": [],
   "source": [
    "def get_image_from_id(image_id: int) -> Image.Image:\n",
    "    \"\"\"\n",
    "    Get the image URL from the image ID. \n",
    "    This has to search through the entire S3 bucket to find the image, so ideally this can be changed.\n",
    "    \n",
    "    Args:\n",
    "        image_id (str): The ID of the image.\n",
    "        \n",
    "    Returns:\n",
    "        Image: A PIL Image object of the image.\n",
    "    \"\"\"\n",
    "    s3 = boto3.client(\n",
    "        \"s3\",\n",
    "        aws_access_key_id=access_key,\n",
    "        aws_secret_access_key=secret_key,\n",
    "        endpoint_url=base_url,\n",
    "        config=Config(signature_version=\"s3v4\"),\n",
    "        region_name=\"us-east-1\",\n",
    "    )\n",
    "\n",
    "    bucket_name = \"rockd-photo-reader\"\n",
    "    key = f\"original/{image_id}.jpg\"\n",
    "\n",
    "    try:\n",
    "        response = s3.get_object(Bucket=bucket_name, Key=key)\n",
    "        image_data = response['Body'].read()\n",
    "        return Image.open(io.BytesIO(image_data))\n",
    "    except Exception as e:\n",
    "        print(f\"Error retrieving image {image_id}: {e}\")\n",
    "        return Image.new('RGB', (100, 100), color='white')  # Return a blank image if not found"
   ]
  }
 ],
 "metadata": {
  "language_info": {
   "name": "python"
  }
 },
 "nbformat": 4,
 "nbformat_minor": 5
}
